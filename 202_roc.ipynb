{
 "cells": [
  {
   "cell_type": "code",
   "execution_count": null,
   "id": "857d77ae",
   "metadata": {},
   "outputs": [],
   "source": [
    "# ROC\n",
    "- Theory\n",
    "- Flow chart\n",
    "- Coding \n",
    "\n"
   ]
  },
  {
   "cell_type": "code",
   "execution_count": null,
   "id": "f6a1a484",
   "metadata": {},
   "outputs": [],
   "source": [
    "- car driving\n",
    "- distance (S(t))\n",
    "- rate of change = (S(t) - S(t-1)) / S(t-1)\n",
    "- rate of change (n) = (S(t) - S(t-n)) / S(t-n)"
   ]
  },
  {
   "cell_type": "code",
   "execution_count": null,
   "id": "f9809810",
   "metadata": {},
   "outputs": [],
   "source": []
  },
  {
   "cell_type": "code",
   "execution_count": null,
   "id": "4264307c",
   "metadata": {},
   "outputs": [],
   "source": [
    "- read the closing stock price \n",
    "- moving window parameter = n\n",
    "- get current price and n days before closing price\n",
    "- calculate the roc values\n",
    "- generate signals (zero line cross over)\n",
    "- threshold based signals\n"
   ]
  }
 ],
 "metadata": {
  "kernelspec": {
   "display_name": "Python 3 (ipykernel)",
   "language": "python",
   "name": "python3"
  },
  "language_info": {
   "codemirror_mode": {
    "name": "ipython",
    "version": 3
   },
   "file_extension": ".py",
   "mimetype": "text/x-python",
   "name": "python",
   "nbconvert_exporter": "python",
   "pygments_lexer": "ipython3",
   "version": "3.9.7"
  }
 },
 "nbformat": 4,
 "nbformat_minor": 5
}
